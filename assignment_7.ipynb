{
  "nbformat": 4,
  "nbformat_minor": 0,
  "metadata": {
    "colab": {
      "name": "assignment 7",
      "provenance": [],
      "authorship_tag": "ABX9TyMyuYh/WzTBu+ya13yQcGE+",
      "include_colab_link": true
    },
    "kernelspec": {
      "name": "python3",
      "display_name": "Python 3"
    }
  },
  "cells": [
    {
      "cell_type": "markdown",
      "metadata": {
        "id": "view-in-github",
        "colab_type": "text"
      },
      "source": [
        "<a href=\"https://colab.research.google.com/github/Raam04/AIML/blob/master/assignment_7.ipynb\" target=\"_parent\"><img src=\"https://colab.research.google.com/assets/colab-badge.svg\" alt=\"Open In Colab\"/></a>"
      ]
    },
    {
      "cell_type": "markdown",
      "metadata": {
        "id": "ldb6SyJA2jS0",
        "colab_type": "text"
      },
      "source": [
        "#CSE A.SHIVA RAM 221710312005"
      ]
    },
    {
      "cell_type": "markdown",
      "metadata": {
        "id": "VwuMgF8T2qBL",
        "colab_type": "text"
      },
      "source": [
        "Question 1:                                               \n",
        "Copy the contents of a text file into another, printing the reversed version of each input line\n"
      ]
    },
    {
      "cell_type": "code",
      "metadata": {
        "id": "cKUZ05941y-l",
        "colab_type": "code",
        "colab": {}
      },
      "source": [
        "with open(\"sample.txt\",\"r\") as f:\n",
        "    with open(\"sample1.txt\",\"w\") as f1: \n",
        "        for line in f:\n",
        "            f1.write(line)\n",
        "with open(\"sample1.txt\",\"r\") as f1:\n",
        "        for line in f1:                    \n",
        "            print(line[::-1])"
      ],
      "execution_count": 0,
      "outputs": []
    },
    {
      "cell_type": "markdown",
      "metadata": {
        "id": "rXzjv2X627rC",
        "colab_type": "text"
      },
      "source": [
        "[deDuplicate] Avoiding Duplicates"
      ]
    },
    {
      "cell_type": "markdown",
      "metadata": {
        "id": "1wB2-cAr3C56",
        "colab_type": "text"
      },
      "source": [
        "In many situations, lists should not contain duplicate elements. For example, a pack of cards should not contain the same card twice. Define a function duplicates (list): bool which returns True if its argument contains duplicate elements. duplicates [1,2,3,4,5] False duplicates [1,2,3,2] True"
      ]
    },
    {
      "cell_type": "code",
      "metadata": {
        "id": "Uzsg3rOe2_KS",
        "colab_type": "code",
        "outputId": "b206440a-3a94-4ed6-f3dc-fe20322f830e",
        "colab": {
          "base_uri": "https://localhost:8080/",
          "height": 51
        }
      },
      "source": [
        "def duplicate(l):\n",
        "    for i in l:\n",
        "        if(l.count(i)>1):\n",
        "            return True\n",
        "            break\n",
        "        else:\n",
        "            continue\n",
        "    return False\n",
        "def removed(f):\n",
        "    for i in l:\n",
        "        if i not in li:\n",
        "            li.append(i)\n",
        "    return li\n",
        "l = [1,2,3,4,2]\n",
        "li= []\n",
        "f = (duplicate(l))\n",
        "print(f)\n",
        "if(f == True):\n",
        "    print(removed(l))"
      ],
      "execution_count": 0,
      "outputs": [
        {
          "output_type": "stream",
          "text": [
            "True\n",
            "[1, 2, 3, 4]\n"
          ],
          "name": "stdout"
        }
      ]
    },
    {
      "cell_type": "markdown",
      "metadata": {
        "id": "IMqFcq0z3J6C",
        "colab_type": "text"
      },
      "source": [
        "Question 4:                                                                            \n",
        "[fractions.py] Develop a package for fractions. Develop a module that performs operations on fractions. It should have methods to create fractions, perform operations on two fractions, simplify a fraction, and print a fraction. You should use that package and illustrate those operations.¶"
      ]
    },
    {
      "cell_type": "code",
      "metadata": {
        "id": "MBW-vpyO3MyT",
        "colab_type": "code",
        "colab": {}
      },
      "source": [
        "import fraction as f\n",
        "f.add_fraction(2/3,4/6)\n",
        "f.mul_fraction(2/3,4/6)"
      ],
      "execution_count": 0,
      "outputs": []
    },
    {
      "cell_type": "markdown",
      "metadata": {
        "id": "7j5qvapL3cFi",
        "colab_type": "text"
      },
      "source": [
        "Question 5:\n",
        "[Permutations]\n",
        "\n",
        "A permutation of a list is another list with the same elements, but in a possibly different order. For example, [1,2,1] is a permutation of [2,1,1], but not of [1,2,2]. Write a function\n",
        "        isPermutation (list1, list2): bool\n",
        "that returns True if its arguments are permutations of each other."
      ]
    },
    {
      "cell_type": "code",
      "metadata": {
        "id": "lnJMkwi73fZi",
        "colab_type": "code",
        "outputId": "b1fa7baf-b310-4cf3-cfcc-b33d888243a7",
        "colab": {
          "base_uri": "https://localhost:8080/",
          "height": 34
        }
      },
      "source": [
        "def ispermutation(l1,l2):\n",
        "    sum1 = sum(l1)\n",
        "    sum2 = sum(l2)\n",
        "    if sum1 == sum2:\n",
        "        return True\n",
        "    else:\n",
        "        return False\n",
        "l1 = [1,2,1]\n",
        "l2 = [1,1,2]\n",
        "print(ispermutation(l1,l2))"
      ],
      "execution_count": 0,
      "outputs": [
        {
          "output_type": "stream",
          "text": [
            "True\n"
          ],
          "name": "stdout"
        }
      ]
    }
  ]
}