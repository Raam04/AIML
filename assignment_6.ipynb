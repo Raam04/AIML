{
  "nbformat": 4,
  "nbformat_minor": 0,
  "metadata": {
    "colab": {
      "name": "assignment 6",
      "provenance": [],
      "authorship_tag": "ABX9TyPooB1DFEItm5wNLw5HiJxk",
      "include_colab_link": true
    },
    "kernelspec": {
      "name": "python3",
      "display_name": "Python 3"
    }
  },
  "cells": [
    {
      "cell_type": "markdown",
      "metadata": {
        "id": "view-in-github",
        "colab_type": "text"
      },
      "source": [
        "<a href=\"https://colab.research.google.com/github/Raam04/AIML/blob/master/assignment_6.ipynb\" target=\"_parent\"><img src=\"https://colab.research.google.com/assets/colab-badge.svg\" alt=\"Open In Colab\"/></a>"
      ]
    },
    {
      "cell_type": "markdown",
      "metadata": {
        "id": "GAxxbbfD1gHN",
        "colab_type": "text"
      },
      "source": [
        "#CSE A.SHIVA RAM 221710312005"
      ]
    },
    {
      "cell_type": "markdown",
      "metadata": {
        "id": "SJjK5M4m1jEQ",
        "colab_type": "text"
      },
      "source": [
        "NINE LIVES"
      ]
    },
    {
      "cell_type": "code",
      "metadata": {
        "id": "7XHbpPgj1VeV",
        "colab_type": "code",
        "outputId": "8d14e339-352e-4d5e-a898-15aa56593b90",
        "colab": {
          "base_uri": "https://localhost:8080/",
          "height": 68
        }
      },
      "source": [
        "import random\n",
        "lives = 9\n",
        "heart_symbol = '\\u2764'\n",
        "words = [\"hello\",\"pizza\",\"apple\",\"teeth\",\"world\"]\n",
        "secret_word = random.choice(words)\n",
        "clue = list('?????')\n",
        "guessed_word_correctly = False\n",
        "def update_clue(guessed_letter,secret_word,clue):\n",
        "    index = 0\n",
        "    while index<len(secret_word):\n",
        "        if guessed_letter == secret_word[index]:\n",
        "            clue[index] = guessed_letter\n",
        "        index +=1    \n",
        "while lives>0:\n",
        "    print(clue)\n",
        "    print(\"lives left:\",heart_symbol*lives)\n",
        "    guess = input(\"guess a letter or whole word\")\n",
        "    if guess == secret_word:\n",
        "        guessed_word_correctly = True\n",
        "        break\n",
        "    elif guess in secret_word:\n",
        "        update_clue(guess,secret_word,clue)\n",
        "    else:\n",
        "        print(\"incorrect guess you lose a life\")\n",
        "        lives -= 1\n",
        "\n",
        "        \n",
        "        "
      ],
      "execution_count": 0,
      "outputs": [
        {
          "output_type": "stream",
          "text": [
            "['?', '?', '?', '?', '?']\n",
            "lives left: ❤❤❤❤❤❤❤❤❤\n",
            "guess a letter or whole wordapple\n"
          ],
          "name": "stdout"
        }
      ]
    }
  ]
}