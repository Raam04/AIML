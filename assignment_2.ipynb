{
  "nbformat": 4,
  "nbformat_minor": 0,
  "metadata": {
    "colab": {
      "name": "assignment 2",
      "provenance": [],
      "authorship_tag": "ABX9TyO3ZkpWTU8z3+k5ODS5cvNL",
      "include_colab_link": true
    },
    "kernelspec": {
      "name": "python3",
      "display_name": "Python 3"
    }
  },
  "cells": [
    {
      "cell_type": "markdown",
      "metadata": {
        "id": "view-in-github",
        "colab_type": "text"
      },
      "source": [
        "<a href=\"https://colab.research.google.com/github/Raam04/AIML/blob/master/assignment_2.ipynb\" target=\"_parent\"><img src=\"https://colab.research.google.com/assets/colab-badge.svg\" alt=\"Open In Colab\"/></a>"
      ]
    },
    {
      "cell_type": "markdown",
      "metadata": {
        "id": "euFrsJCdtrOb",
        "colab_type": "text"
      },
      "source": [
        "CSE A.SHIVARA. 221710312005"
      ]
    },
    {
      "cell_type": "markdown",
      "metadata": {
        "id": "BxtpVfe7t0-6",
        "colab_type": "text"
      },
      "source": [
        "Question 1:¶\n",
        "Accept a string from the user and count no.of vowels,consonants and special characters¶"
      ]
    },
    {
      "cell_type": "code",
      "metadata": {
        "id": "GVUISN_otWnD",
        "colab_type": "code",
        "outputId": "314cd42d-d268-4116-fc18-1429be6c3167",
        "colab": {
          "base_uri": "https://localhost:8080/",
          "height": 85
        }
      },
      "source": [
        "def countCharacterType(str):  \n",
        "    vowels = 0\n",
        "    consonant = 0\n",
        "    specialChar = 0\n",
        "    digit = 0\n",
        "    for i in range(0, len(str)):  \n",
        "          \n",
        "        ch = str[i]  \n",
        "  \n",
        "        if ( (ch >= 'a' and ch <= 'z') or \n",
        "             (ch >= 'A' and ch <= 'Z') ):\n",
        "            if (ch == 'a' or ch == 'e' or ch == 'i' \n",
        "                        or ch == 'o' or ch == 'u'): \n",
        "                vowels += 1\n",
        "            else: \n",
        "                consonant += 1\n",
        "          \n",
        "        elif (ch >= '0' and ch <= '9'): \n",
        "            digit += 1\n",
        "        else: \n",
        "            specialChar += 1\n",
        "      \n",
        "    print(\"Vowels:\", vowels) \n",
        "    print(\"Consonant:\", consonant)  \n",
        "    print(\"Digit:\", digit)  \n",
        "    print(\"Special Character:\", specialChar)   \n",
        "str = \"Dhyanahitha@123\"\n",
        "countCharacterType(str)"
      ],
      "execution_count": 0,
      "outputs": [
        {
          "output_type": "stream",
          "text": [
            "Vowels: 4\n",
            "Consonant: 7\n",
            "Digit: 3\n",
            "Special Character: 1\n"
          ],
          "name": "stdout"
        }
      ]
    },
    {
      "cell_type": "markdown",
      "metadata": {
        "id": "8jj0qFtSt-HX",
        "colab_type": "text"
      },
      "source": [
        "\n",
        "Question 2:¶\n",
        "count the no.of pairs of a in the given string(Infosys InfyTQ)¶\n",
        "string â  \"abbaaccbbaaa\"\n",
        "output â  2\n",
        "In [0]:\n",
        "\n",
        "\n"
      ]
    },
    {
      "cell_type": "code",
      "metadata": {
        "id": "CCxEOzymuE6x",
        "colab_type": "code",
        "outputId": "f480e579-59c7-4a45-f2ce-14d6a6cf3da1",
        "colab": {
          "base_uri": "https://localhost:8080/",
          "height": 51
        }
      },
      "source": [
        "a=input('Enter a string:').lower()\n",
        "p=0\n",
        "c=0\n",
        "for i in a:\n",
        "    if i=='a' and c==0:\n",
        "        c=1\n",
        "    elif i=='a' and c==1:\n",
        "        c=0\n",
        "        p=p+1\n",
        "    else:\n",
        "        c=0\n",
        "print(\"Pairs:\",p)"
      ],
      "execution_count": 0,
      "outputs": [
        {
          "output_type": "stream",
          "text": [
            "Enter a string:aaaaaaaaaaa\n",
            "Pairs: 5\n"
          ],
          "name": "stdout"
        }
      ]
    },
    {
      "cell_type": "markdown",
      "metadata": {
        "id": "d24ldGAFuNtB",
        "colab_type": "text"
      },
      "source": [
        "Question 3:¶\n",
        "Test case1:\n",
        "    string â  \"((((()()()))))()\"\n",
        "    output â  8\n",
        "Test case2:\n",
        "    string â  \"((()))()\"\n",
        "    Output â  4"
      ]
    },
    {
      "cell_type": "code",
      "metadata": {
        "id": "eF-h5-_quQ_J",
        "colab_type": "code",
        "outputId": "ff430bff-ddb4-45cb-a382-b5845bb2b800",
        "colab": {
          "base_uri": "https://localhost:8080/",
          "height": 51
        }
      },
      "source": [
        "def check(str):\n",
        "    stack = []\n",
        "    sum = 0\n",
        "    open_list = [\"(\"]\n",
        "    for i in str:\n",
        "        if i in open_list:\n",
        "            stack.append(i)\n",
        "        else :\n",
        "            stack.pop()\n",
        "            sum += 1\n",
        "    print(\"Number of parentheses : \", sum)\n",
        "# Driver function.\n",
        "str = input(\"Enter your string : \")\n",
        "check(str)"
      ],
      "execution_count": 0,
      "outputs": [
        {
          "output_type": "stream",
          "text": [
            "Enter your string : ()()\n",
            "Number of parentheses :  2\n"
          ],
          "name": "stdout"
        }
      ]
    },
    {
      "cell_type": "markdown",
      "metadata": {
        "id": "n24SbIVyuW2J",
        "colab_type": "text"
      },
      "source": [
        "Question 4:¶\n",
        "Read the input as two limits and Print the output as Palindrome count between the two limits¶                                             \n",
        "\n",
        "Example #1; Input : 1 10 Output : 9¶                                          \n",
        "Example #2: Input : 1 100 Output : 18¶"
      ]
    },
    {
      "cell_type": "code",
      "metadata": {
        "id": "KgVyEuCQucQK",
        "colab_type": "code",
        "outputId": "6224f6c6-a911-4955-e057-6f14f33eebd9",
        "colab": {
          "base_uri": "https://localhost:8080/",
          "height": 68
        }
      },
      "source": [
        "def isPalindrome(n: int) -> bool: \n",
        "    rev = 0\n",
        "    i = n \n",
        "    while i > 0: \n",
        "        rev = rev * 10 + i % 10\n",
        "        i //= 10 \n",
        "    return (n == rev) \n",
        "\n",
        "def countPal(minn: int, maxx: int) -> None: \n",
        "    c=0\n",
        "    for i in range(minn, maxx + 1): \n",
        "        if isPalindrome(i): \n",
        "            c+=1 \n",
        "    print(c)\n",
        "x=int(input())\n",
        "y=int(input())\n",
        "countPal(x,y)"
      ],
      "execution_count": 0,
      "outputs": [
        {
          "output_type": "stream",
          "text": [
            "1\n",
            "10\n",
            "9\n"
          ],
          "name": "stdout"
        }
      ]
    },
    {
      "cell_type": "code",
      "metadata": {
        "id": "29Ypi8uLulaq",
        "colab_type": "code",
        "outputId": "1ca34882-9056-4c04-d7fb-7170fa7d9dd1",
        "colab": {
          "base_uri": "https://localhost:8080/",
          "height": 68
        }
      },
      "source": [
        "def isPalindrome(n: int) -> bool: \n",
        "    rev = 0\n",
        "    i = n \n",
        "    while i > 0: \n",
        "        rev = rev * 10 + i % 10\n",
        "        i //= 10 \n",
        "    return (n == rev) \n",
        "\n",
        "def countPal(minn: int, maxx: int) -> None: \n",
        "    c=0\n",
        "    for i in range(minn, maxx + 1): \n",
        "        if isPalindrome(i): \n",
        "            c+=1 \n",
        "    print(c)\n",
        "x=int(input())\n",
        "y=int(input())\n",
        "countPal(x,y)"
      ],
      "execution_count": 0,
      "outputs": [
        {
          "output_type": "stream",
          "text": [
            "1\n",
            "100\n",
            "18\n"
          ],
          "name": "stdout"
        }
      ]
    },
    {
      "cell_type": "markdown",
      "metadata": {
        "id": "VJEEMquMuq6K",
        "colab_type": "text"
      },
      "source": [
        "Question 5:¶\n",
        "Accept a number as an input and check whether the given number is palindrome or not¶\n",
        "if it is a palindrome number print the number on the screen if it is not a palindrome number reverse that number and add it to previous number repeat this until will get a palindrome number and print that palindrome number on the screen input: 127 output: 848\n",
        "\n",
        "In [2]:"
      ]
    },
    {
      "cell_type": "code",
      "metadata": {
        "id": "iox7pHmKuuQa",
        "colab_type": "code",
        "colab": {}
      },
      "source": [
        "n=int(input())\n",
        "while True:\n",
        "    if str(n) == str(n)[::-1]:\n",
        "        print(str(n)[::-1],\"is a palindrome\")\n",
        "        break\n",
        "    else:\n",
        "        n+=int(str(n)[::-1])"
      ],
      "execution_count": 0,
      "outputs": []
    },
    {
      "cell_type": "markdown",
      "metadata": {
        "id": "5BAc_Mx5vDA6",
        "colab_type": "text"
      },
      "source": [
        "Question 6"
      ]
    },
    {
      "cell_type": "code",
      "metadata": {
        "id": "YuDfR9OxvGbq",
        "colab_type": "code",
        "colab": {}
      },
      "source": [
        "s=str(input('enter a string'))\n",
        "vowel=['a','e','i','o','u']\n",
        "for i in s:\n",
        "    if i in vowel:\n",
        "        print(chr(ord(i)+1),end='')\n",
        "    elif (ord(i)>65 and ord(i)<69) or (ord(i)>97 and ord(i)<101):\n",
        "        print('e',end='')\n",
        "    elif (ord(i)>69 and ord(i)<73) or (ord(i)>101 and ord(i)<105):\n",
        "        print('i',end='')  \n",
        "    elif (ord(i)>73 and ord(i)<79) or (ord(i)>105 and ord(i)<111):\n",
        "        print('o',end='')\n",
        "    elif (ord(i)>79 and ord(i)<85) or (ord(i)>111 and ord(i)<117):\n",
        "        print('u',end='')\n",
        "    elif (ord(i)>85 and ord(i)<90) or (ord(i)>117 and ord(i)<122):\n",
        "        print('a',end='')"
      ],
      "execution_count": 0,
      "outputs": []
    }
  ]
}