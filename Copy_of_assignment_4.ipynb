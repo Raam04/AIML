{
  "nbformat": 4,
  "nbformat_minor": 0,
  "metadata": {
    "colab": {
      "name": "Copy of assignment 4",
      "provenance": [],
      "collapsed_sections": [],
      "authorship_tag": "ABX9TyOpuDIOylVZxiWhRUsOz8en",
      "include_colab_link": true
    },
    "kernelspec": {
      "name": "python3",
      "display_name": "Python 3"
    }
  },
  "cells": [
    {
      "cell_type": "markdown",
      "metadata": {
        "id": "view-in-github",
        "colab_type": "text"
      },
      "source": [
        "<a href=\"https://colab.research.google.com/github/Raam04/AIML/blob/master/Copy_of_assignment_4.ipynb\" target=\"_parent\"><img src=\"https://colab.research.google.com/assets/colab-badge.svg\" alt=\"Open In Colab\"/></a>"
      ]
    },
    {
      "cell_type": "markdown",
      "metadata": {
        "id": "SCMxNz3vxnV_",
        "colab_type": "text"
      },
      "source": [
        "##CSE A.SHIVA RAM 221710312005"
      ]
    },
    {
      "cell_type": "markdown",
      "metadata": {
        "id": "SeFBTgPBxw0h",
        "colab_type": "text"
      },
      "source": [
        "Question 1:\n",
        "Count the no.of words,no.of letters,no.of lines available in your file\n"
      ]
    },
    {
      "cell_type": "code",
      "metadata": {
        "id": "cmQVdwjFxfrn",
        "colab_type": "code",
        "outputId": "2ef83324-6a4d-4266-b6d9-41e7eb8b3325",
        "colab": {
          "base_uri": "https://localhost:8080/",
          "height": 34
        }
      },
      "source": [
        "#open\n",
        "f = open(\"assignment4.txt\",\"w\")\n",
        "f.write(\"hi\\nhello\\npython\")\n",
        "f.close()\n",
        "f = open(\"assignment4.txt\",\"r\")\n",
        "data = f.read()\n",
        "numofletter = len(data)\n",
        "numofwords = len(data.split())\n",
        "numoflines = len(data.splitlines())\n",
        "print(\"numofletter: \",numofletter,\"numofwords: \",numofwords,\"numoflines:\",numoflines)\n",
        "f.close()\n"
      ],
      "execution_count": 0,
      "outputs": [
        {
          "output_type": "stream",
          "text": [
            "numofletter:  15 numofwords:  3 numoflines: 3\n"
          ],
          "name": "stdout"
        }
      ]
    },
    {
      "cell_type": "markdown",
      "metadata": {
        "id": "uCK0UnBsyc1r",
        "colab_type": "text"
      },
      "source": [
        "Question 2:\n",
        "Copy the content of one file to another"
      ]
    },
    {
      "cell_type": "code",
      "metadata": {
        "id": "C3dlToo3ymyD",
        "colab_type": "code",
        "outputId": "cddfa75d-6615-42de-8740-58dcc27a886e",
        "colab": {
          "base_uri": "https://localhost:8080/",
          "height": 68
        }
      },
      "source": [
        "with open(\"assignment4.txt\") as f:\n",
        "    with open(\"copy.txt\", \"w\") as f1:\n",
        "        for line in f:\n",
        "            f1.write(line)\n",
        "f = open(\"copy.txt\",\"r\")\n",
        "data = f.read()\n",
        "print(data)\n",
        "f.close()"
      ],
      "execution_count": 0,
      "outputs": [
        {
          "output_type": "stream",
          "text": [
            "hi\n",
            "hello\n",
            "python\n"
          ],
          "name": "stdout"
        }
      ]
    },
    {
      "cell_type": "markdown",
      "metadata": {
        "id": "mPjLR9OdyrAD",
        "colab_type": "text"
      },
      "source": [
        "Question 3:\n",
        "Display the words starting with letter 'p'"
      ]
    },
    {
      "cell_type": "code",
      "metadata": {
        "id": "j4AGOlFlyGgL",
        "colab_type": "code",
        "outputId": "8d819c0f-2f92-4cf5-bd9c-f8e9c37c3f40",
        "colab": {
          "base_uri": "https://localhost:8080/",
          "height": 34
        }
      },
      "source": [
        "f = open(\"assignment4.txt\",\"r\")\n",
        "data = f.read()\n",
        "\n",
        "for i in data.split():\n",
        "    if i.startswith(\"p\"):\n",
        "        print(i)"
      ],
      "execution_count": 0,
      "outputs": [
        {
          "output_type": "stream",
          "text": [
            "python\n"
          ],
          "name": "stdout"
        }
      ]
    },
    {
      "cell_type": "markdown",
      "metadata": {
        "id": "4i0lO0rgy1Cz",
        "colab_type": "text"
      },
      "source": [
        "Question 4:\n",
        "Rename and remove files"
      ]
    },
    {
      "cell_type": "code",
      "metadata": {
        "id": "e-I6ZfIJy39j",
        "colab_type": "code",
        "colab": {}
      },
      "source": [
        "#rename\n",
        "import os\n",
        "os.rename(\"assignment4.txt\",\"assignment-4.txt\")\n",
        "#removing\n",
        "import os\n",
        "os.remove(\"remove.txt\")"
      ],
      "execution_count": 0,
      "outputs": []
    },
    {
      "cell_type": "markdown",
      "metadata": {
        "id": "foddsEMMy-6L",
        "colab_type": "text"
      },
      "source": [
        "Question 5:                                                           \n",
        "Create a folder                            \n",
        "Goto that folder and create 5 no.of files                             \n",
        "All the file names should be unique                          \n",
        "Add some content into the file and the content in all the files should be unique\n",
        "File size should be 512bits¶"
      ]
    },
    {
      "cell_type": "code",
      "metadata": {
        "id": "L5lcW1HvzFMr",
        "colab_type": "code",
        "colab": {}
      },
      "source": [
        "#folder creating\n",
        "import os\n",
        "import string\n",
        "import random\n",
        "os.mkdir('file question')\n",
        "for i in range(5):\n",
        "    file_name = \"C://Users//DELL//Desktop//AIMl//file question//file%d\"%(i) \n",
        "    f = open(file_name,\"a\")\n",
        "    data = \"\"\n",
        "    for i in range(512):\n",
        "        data = data + random.choice(string.ascii_letters)\n",
        "    f.write(data)\n",
        "    f.close()"
      ],
      "execution_count": 0,
      "outputs": []
    },
    {
      "cell_type": "code",
      "metadata": {
        "id": "Tg_KmbgBzTaT",
        "colab_type": "code",
        "colab": {}
      },
      "source": [
        ""
      ],
      "execution_count": 0,
      "outputs": []
    }
  ]
}