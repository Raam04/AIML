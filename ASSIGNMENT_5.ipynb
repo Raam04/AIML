{
  "nbformat": 4,
  "nbformat_minor": 0,
  "metadata": {
    "colab": {
      "name": "ASSIGNMENT 5",
      "provenance": [],
      "authorship_tag": "ABX9TyPyLkEeWRUjvZdFCdn60NY2",
      "include_colab_link": true
    },
    "kernelspec": {
      "name": "python3",
      "display_name": "Python 3"
    }
  },
  "cells": [
    {
      "cell_type": "markdown",
      "metadata": {
        "id": "view-in-github",
        "colab_type": "text"
      },
      "source": [
        "<a href=\"https://colab.research.google.com/github/Raam04/AIML/blob/master/ASSIGNMENT_5.ipynb\" target=\"_parent\"><img src=\"https://colab.research.google.com/assets/colab-badge.svg\" alt=\"Open In Colab\"/></a>"
      ]
    },
    {
      "cell_type": "markdown",
      "metadata": {
        "id": "UFsm_00o-g5Z",
        "colab_type": "text"
      },
      "source": [
        "#CSE A.SHIVARAM 221710312005"
      ]
    },
    {
      "cell_type": "markdown",
      "metadata": {
        "id": "fPF0i-N1-l_H",
        "colab_type": "text"
      },
      "source": [
        "PASSWORD PICKER"
      ]
    },
    {
      "cell_type": "code",
      "metadata": {
        "id": "XB1-Vkvo9x23",
        "colab_type": "code",
        "colab": {
          "base_uri": "https://localhost:8080/",
          "height": 85
        },
        "outputId": "71d7a5fe-7083-416f-ad60-fedd0c49efdd"
      },
      "source": [
        "##PASSWORD PICKER\n",
        "import random,string\n",
        "\n",
        "def passwordGenerator():\n",
        "    \n",
        "    adjectives =[\"good\", \"bad\", \"fair\", \"cool\", \"happy\"]\n",
        "    noun = [\"gitam\", \"Hyderabad\",\"Dhyanahita\",\"Laptop\",\"dog\"]\n",
        "   \n",
        "    password =random.choice(adjectives)+random.choice(noun)+str(random.randint(1,100))+random.choice(string.punctuation)\n",
        "    print(password)\n",
        "    \n",
        "\n",
        "passwordGenerator()\n",
        "choice = str(input(\"Want another password? [Y/N] \"))\n",
        "while(choice.upper() == \"Y\"):\n",
        "    passwordGenerator()\n",
        "    choice = str(input(\"Want another password? [Y/N] \"))"
      ],
      "execution_count": 1,
      "outputs": [
        {
          "output_type": "stream",
          "text": [
            "fairdog84#\n",
            "Want another password? [Y/N] Y\n",
            "coolgitam92)\n",
            "Want another password? [Y/N] N\n"
          ],
          "name": "stdout"
        }
      ]
    },
    {
      "cell_type": "markdown",
      "metadata": {
        "id": "PbzCSIMD-gKs",
        "colab_type": "text"
      },
      "source": [
        ""
      ]
    }
  ]
}